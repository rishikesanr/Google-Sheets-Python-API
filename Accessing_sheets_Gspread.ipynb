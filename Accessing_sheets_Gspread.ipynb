{
  "nbformat": 4,
  "nbformat_minor": 0,
  "metadata": {
    "colab": {
      "name": "Accessing_sheets_Gspread.ipynb",
      "provenance": [],
      "authorship_tag": "ABX9TyPo9JLhqqBZHXH56wDKvu56"
    },
    "kernelspec": {
      "name": "python3",
      "display_name": "Python 3"
    }
  },
  "cells": [
    {
      "cell_type": "code",
      "metadata": {
        "id": "viaqWQue4oeA",
        "colab_type": "code",
        "colab": {}
      },
      "source": [
        "!pip install gspread"
      ],
      "execution_count": null,
      "outputs": []
    },
    {
      "cell_type": "code",
      "metadata": {
        "id": "00-ND10Z4suj",
        "colab_type": "code",
        "colab": {}
      },
      "source": [
        "!pip install oauth2client"
      ],
      "execution_count": null,
      "outputs": []
    },
    {
      "cell_type": "code",
      "metadata": {
        "id": "sUT4jVjI42uD",
        "colab_type": "code",
        "colab": {
          "base_uri": "https://localhost:8080/",
          "height": 34
        },
        "outputId": "6e3d0b75-7193-4cdf-d4e4-0dc60f705579"
      },
      "source": [
        "from google.colab import drive\n",
        "import os\n",
        "drive.mount('/content/drive/')\n",
        "os.chdir('/content/drive/My Drive')"
      ],
      "execution_count": 33,
      "outputs": [
        {
          "output_type": "stream",
          "text": [
            "Drive already mounted at /content/drive/; to attempt to forcibly remount, call drive.mount(\"/content/drive/\", force_remount=True).\n"
          ],
          "name": "stdout"
        }
      ]
    },
    {
      "cell_type": "code",
      "metadata": {
        "id": "ubNPuMMBAmED",
        "colab_type": "code",
        "colab": {}
      },
      "source": [
        "import pandas as pd\n",
        "import gspread\n",
        "from oauth2client.service_account import ServiceAccountCredentials\n",
        "import requests\n",
        "import io\n",
        "import datetime\n",
        "import pytz\n"
      ],
      "execution_count": 34,
      "outputs": []
    },
    {
      "cell_type": "code",
      "metadata": {
        "id": "pA610JlPBrDu",
        "colab_type": "code",
        "colab": {}
      },
      "source": [
        "#Defining full admin acess to Google sheets\n",
        "\n",
        "scope = ['https://www.googleapis.com/auth/drive']"
      ],
      "execution_count": 39,
      "outputs": []
    },
    {
      "cell_type": "code",
      "metadata": {
        "id": "8bpGxaSzCJ0n",
        "colab_type": "code",
        "colab": {}
      },
      "source": [
        "#Reading credentials from JSON file and authorizing it\n",
        "\n",
        "cred = ServiceAccountCredentials.from_json_keyfile_name('Gsheet_credentials.json',scope)\n",
        "\n",
        "client = gspread.authorize(cred)"
      ],
      "execution_count": 40,
      "outputs": []
    },
    {
      "cell_type": "code",
      "metadata": {
        "id": "eEEoC8GqBr5S",
        "colab_type": "code",
        "colab": {}
      },
      "source": [
        "sheet = client.open('Append_Daily').sheet1"
      ],
      "execution_count": 41,
      "outputs": []
    },
    {
      "cell_type": "code",
      "metadata": {
        "id": "1nK-hrkTGu2M",
        "colab_type": "code",
        "colab": {
          "base_uri": "https://localhost:8080/",
          "height": 52
        },
        "outputId": "ab393b88-cda4-4bc0-dd68-25634d71b8cc"
      },
      "source": [
        "#Reading a website status and writing it on Google Sheet\n",
        "\n",
        "req= requests.get('https://github.com/rishikesanr')\n",
        "\n",
        "info = req.status_code\n",
        "\n",
        "if (info<299):\n",
        "    status=\"Responsive\"\n",
        "elif (info>=400):\n",
        "    status=\"Client error\"\n",
        "else:\n",
        "    status=\"Redirecting\"\n",
        "\n",
        "#Timezone    \n",
        "dtime=datetime.datetime.now(tz=pytz.UTC)\n",
        "\n",
        "dtime_ind=dtime.astimezone(pytz.timezone('Asia/Kolkata'))\n",
        "date_time=dtime_ind.strftime(\"%d-%m-%y / %H:%M:%S\")\n",
        "\n",
        "print(\"Time:\",date_time,\"\\nStatus:\",status)\n"
      ],
      "execution_count": 47,
      "outputs": [
        {
          "output_type": "stream",
          "text": [
            "Time: 07-09-20 / 21:15:39 \n",
            "Status: Responsive\n"
          ],
          "name": "stdout"
        }
      ]
    },
    {
      "cell_type": "code",
      "metadata": {
        "id": "SUMZJcIvOzdh",
        "colab_type": "code",
        "colab": {
          "base_uri": "https://localhost:8080/",
          "height": 141
        },
        "outputId": "7cf71d71-1ea5-4d53-e6f7-830a9b5b4f48"
      },
      "source": [
        "row=[date_time,status]\n",
        "sheet.append_row(row)"
      ],
      "execution_count": 48,
      "outputs": [
        {
          "output_type": "execute_result",
          "data": {
            "text/plain": [
              "{'spreadsheetId': '1rY968-xhtbOQMahodTxODv_d40cvwEe4AXBTxe8ubOo',\n",
              " 'tableRange': 'Sheet1!A1:B2',\n",
              " 'updates': {'spreadsheetId': '1rY968-xhtbOQMahodTxODv_d40cvwEe4AXBTxe8ubOo',\n",
              "  'updatedCells': 2,\n",
              "  'updatedColumns': 2,\n",
              "  'updatedRange': 'Sheet1!A3:B3',\n",
              "  'updatedRows': 1}}"
            ]
          },
          "metadata": {
            "tags": []
          },
          "execution_count": 48
        }
      ]
    },
    {
      "cell_type": "code",
      "metadata": {
        "id": "9MLeNA9eO7XN",
        "colab_type": "code",
        "colab": {}
      },
      "source": [
        "### THE END\n",
        "##\n",
        "#"
      ],
      "execution_count": null,
      "outputs": []
    }
  ]
}